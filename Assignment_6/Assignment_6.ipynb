{
 "cells": [
  {
   "cell_type": "code",
   "execution_count": 1,
   "id": "2692cfd5",
   "metadata": {},
   "outputs": [
    {
     "name": "stdout",
     "output_type": "stream",
     "text": [
      "Remove punctuation and stop words in the data files text written to: E:\\MS_Course_Notes\\COMP_293C\\Assignments\\Assignment_6\\q1_cleaned_output.txt\n"
     ]
    }
   ],
   "source": [
    "# 1. Perform necessary data preprocessing, e.g. removing punctuation and stop words, stemming, lemmatizing. \n",
    "# You may use the outputs from previous weekly assignments.\n",
    "# Cleaning the input data file\n",
    "\n",
    "#removing all tags from the input file\n",
    "import re\n",
    "#using nltk\n",
    "import nltk\n",
    "from nltk.stem.porter import PorterStemmer\n",
    "from nltk import word_tokenize\n",
    "import pickle\n",
    "from nltk.corpus import stopwords\n",
    "nltk_stopwords = nltk.corpus.stopwords.words('english')\n",
    "from nltk.stem.wordnet import WordNetLemmatizer\n",
    "from nltk import word_tokenize, pos_tag\n",
    "from nltk.corpus import wordnet\n",
    "from collections import defaultdict\n",
    "import re\n",
    "from nltk.stem import WordNetLemmatizer\n",
    "from spellchecker import SpellChecker\n",
    "\n",
    "# Read the input text file\n",
    "with open('E:\\\\MS_Course_Notes\\\\COMP_293C\\\\Assignments\\\\Assignment_6\\\\webpage_data.txt', 'r') as file:\n",
    "    text = file.read()\n",
    "\n",
    "# Define regular expressions to match the JavaScript functions to remove\n",
    "functions_to_remove = [\n",
    "    r'Search{\"path\":.*?\\}Skip to main',  # Match and remove JavaScript variables\n",
    "    r'{\"path\":.*?\\}Skip to main',  # Match and remove JavaScript variables\n",
    "    r'function focusIt\\(\\) \\{[\\s\\S]*?\\}\\);Skip to main',\n",
    "    r'function focusIt\\(\\) \\{[\\s\\S]*? \\}\\);',\n",
    "    r'\\$\\(.*?\\}\\);',\n",
    "    r'window\\.dataLayer = window\\.dataLayer \\|\\| \\[\\];\\s*function gtag\\(\\)\\{dataLayer\\.push\\(arguments\\);\\}\\s*gtag\\(\\'js\\', new Date\\(\\)\\);\\s*gtag\\(\\'config\\', \\'UA-41988811-1\\', \\{[^}]+\\}\\);'\n",
    "\n",
    "]\n",
    "\n",
    "# Remove the matched functions\n",
    "for pattern in functions_to_remove:\n",
    "    text = re.sub(pattern, '', text, flags=re.DOTALL)\n",
    "\n",
    "tokens_text = word_tokenize(text)\n",
    "\n",
    "#print(tokens_text)\n",
    "\n",
    "# Remove non-alphanumeric items, empty strings, and whitespace strings\n",
    "filtered_list = [item for item in tokens_text if re.match(r'^[a-zA-Z0-9]*$', item) is not None]\n",
    "\n",
    "# Remove stopwords\n",
    "stop_words = set(stopwords.words('english'))\n",
    "filtered_list = [word for word in filtered_list if word not in stop_words]\n",
    "filtered_list = [word.lower() for word in filtered_list]\n",
    "\n",
    "# Print the filtered list without stopwords\n",
    "#print(filtered_list)\n",
    "\n",
    "lemmatizer = WordNetLemmatizer()\n",
    "\n",
    "# Perform lemmatization\n",
    "lemmatized_list = [lemmatizer.lemmatize(word) for word in filtered_list]\n",
    "\n",
    "# Print the stemmed and lemmatized list\n",
    "#print(lemmatized_list)\n",
    "\n",
    "\n",
    "#1. Cleaning the input file without punctuation and stop words in the data files. \n",
    "\n",
    "# Specify the path for the output file to save the tokenized text\n",
    "output_file_path = \"E:\\\\MS_Course_Notes\\\\COMP_293C\\\\Assignments\\\\Assignment_6\\\\q1_cleaned_output.txt\"\n",
    "\n",
    "# Write the tokenized text to the output file\n",
    "with open(output_file_path, 'w') as output_file:\n",
    "    output_file.write(str(lemmatized_list))\n",
    "\n",
    "print(\"Remove punctuation and stop words in the data files text written to:\", output_file_path)"
   ]
  },
  {
   "cell_type": "markdown",
   "id": "b6303fc1",
   "metadata": {},
   "source": [
    "## 2. Propose a binary classification problem from your project data and identify the columns that you will use to solve the problem. You may need to create new columns of data.\n",
    "# Binary Classification Problem: Identifying Programs and general University data\n",
    "\n",
    "## Classification is based on the Programs\n",
    "As project is a university chatbot I am trying to create a binary classification model to determine whether the text refers to a program related data or general university data. The data set has the general data like pacific card, housing, dinning and course related information. So here I spliting the academic related data and non academic data in separate labels.\n",
    "\n",
    "## Dataset\n",
    "The a dataset that contains various paragraphs related to educational programs and general FAQ in the university. Each paragraph is associated with a label indicating whether it's about a \"non academic\" (Class 0) or an \"academic\" (Class 1).\n",
    "\n",
    "## Columns Used\n",
    "1. **Text Data (Paragraphs):** We use the text data column containing the paragraphs that describe different educational programs. This text data is essential for extracting information to make classification decisions.\n",
    "\n",
    "2. **Target Label (Class):** We have a target label column (Class) to identify whether each paragraph corresponds to a \"academic\" or an \"non academic.\"\n",
    "\n",
    "### Explanation\n",
    "After calculating the frequency of academic keywords and non acdemic keywords so I am proceeding with those words. So that the dataset is balanced.\n"
   ]
  },
  {
   "cell_type": "code",
   "execution_count": 2,
   "id": "f4716151",
   "metadata": {},
   "outputs": [
    {
     "name": "stdout",
     "output_type": "stream",
     "text": [
      "student: 878\n",
      "program: 569\n",
      "pacific: 348\n",
      "application: 341\n",
      "university: 287\n",
      "graduate: 277\n",
      "course: 234\n",
      "admission: 229\n",
      "scholarship: 221\n",
      "eligible: 216\n"
     ]
    }
   ],
   "source": [
    "#calculating with the frequency of the words to procceed with the binary classification\n",
    "\n",
    "import re\n",
    "import nltk\n",
    "from nltk.corpus import stopwords\n",
    "from collections import Counter\n",
    "\n",
    "\n",
    "# Tokenize the text into words\n",
    "words = nltk.word_tokenize(text)\n",
    "\n",
    "# Convert words to lowercase\n",
    "words = [word.lower() for word in words]\n",
    "\n",
    "# Remove stopwords and punctuation\n",
    "stop_words = set(stopwords.words(\"english\"))\n",
    "words = [word for word in lemmatized_list if word.isalpha() and word not in stop_words]\n",
    "\n",
    "# Count word frequencies\n",
    "word_counts = Counter(words)\n",
    "\n",
    "# Find the most common words\n",
    "most_common_words = word_counts.most_common(10)  # Change the number as needed\n",
    "\n",
    "# Print the most common words\n",
    "for word, count in most_common_words:\n",
    "    print(f\"{word}: {count}\")\n"
   ]
  },
  {
   "cell_type": "code",
   "execution_count": 3,
   "id": "8a1bfc10",
   "metadata": {},
   "outputs": [],
   "source": [
    "# Read the input text file\n",
    "with open('E:\\\\MS_Course_Notes\\\\COMP_293C\\\\Assignments\\\\Project\\\\Full_Cleaned_input.txt', 'r', encoding='utf-8') as file:\n",
    "    text = file.read()\n",
    "    \n",
    "input_text = text\n",
    "\n",
    "# Add spaces after question marks and appropriate punctuation at the end of each line\n",
    "formatted_text = re.sub(r'(\\w)\\?(\\w)', r'\\1? \\2', input_text)\n",
    "formatted_text = re.sub(r'(\\w)\\.', r'\\1. ', formatted_text)\n",
    "\n",
    "# Print the updated input data\n",
    "#print(formatted_text)"
   ]
  },
  {
   "cell_type": "code",
   "execution_count": 4,
   "id": "df6f6db7",
   "metadata": {},
   "outputs": [
    {
     "name": "stdout",
     "output_type": "stream",
     "text": [
      "Count of label 0: 4362\n",
      "Count of label 1: 4495\n"
     ]
    }
   ],
   "source": [
    "#creating a new column for the binary classification\n",
    "import re\n",
    "\n",
    "# Define the keywords related to academic\n",
    "keywords = ['graduate','undergraduate','program','degree','academic',\n",
    "            'student','application','international','scholarship','eligible',\n",
    "            'admission','financial','aid','research','course','school',\n",
    "            'Bachelor','master','academic','semester','eligibility','science'\n",
    "           'education','prerequisite','gpa','research','score','fee']\n",
    "\n",
    "# Define a function to check if any of the keywords are in a paragraph\n",
    "def contains_keyword(paragraph):\n",
    "    for keyword in keywords:\n",
    "        if re.search(keyword, paragraph, re.IGNORECASE):\n",
    "            return 1  # Label as 1 if a keyword is found\n",
    "    return 0  # Return None for paragraphs without either keyword\n",
    "\n",
    "# Split the text data into paragraphs (assuming paragraphs are separated by a period followed by a space)\n",
    "paragraphs = re.split(r'(?<=[.!?])\\s+', formatted_text)\n",
    "\n",
    "# Create a list of (label, paragraph) pairs, excluding None values\n",
    "labeled_paragraphs = [(label, paragraph) for label, paragraph in [(contains_keyword(paragraph), paragraph) for paragraph in paragraphs] if label is not None]\n",
    "\n",
    "#print(labeled_paragraphs)\n",
    "\n",
    "# Initialize counters for labels\n",
    "count_0 = 0\n",
    "count_1 = 0\n",
    "\n",
    "# Iterate through the labeled paragraphs to count the labels\n",
    "#showing the datatset with is almost balanced\n",
    "for label, _ in labeled_paragraphs:\n",
    "    if label == 0:\n",
    "        count_0 += 1\n",
    "    elif label == 1:\n",
    "        count_1 += 1\n",
    "\n",
    "# Print the counts\n",
    "print(\"Count of label 0:\", count_0)\n",
    "print(\"Count of label 1:\", count_1)\n"
   ]
  },
  {
   "cell_type": "code",
   "execution_count": 5,
   "id": "27fbbe77",
   "metadata": {},
   "outputs": [],
   "source": [
    "# Write the labeled data to a new file\n",
    "with open(\"E:\\\\MS_Course_Notes\\\\COMP_293C\\\\Assignments\\\\Assignment_6\\\\labeled_data.txt\", \"w\") as file:\n",
    "    for label, paragraph in labeled_paragraphs:\n",
    "        file.write(f\"{label}\\t{paragraph}\\n\")\n"
   ]
  },
  {
   "cell_type": "code",
   "execution_count": 6,
   "id": "2d351605",
   "metadata": {},
   "outputs": [],
   "source": [
    "#1. Spliting the data set into test and train dataset\n",
    "from sklearn.model_selection import train_test_split\n",
    "\n",
    "# Split the dataset into features (X) and labels (y)\n",
    "X = [paragraph for label, paragraph in labeled_paragraphs]\n",
    "y = [label for label, paragraph in labeled_paragraphs]\n",
    "\n",
    "# Split the dataset into training and test sets (adjust the test_size as needed)\n",
    "X_train, X_test, y_train, y_test = train_test_split(X, y, test_size=0.2, random_state=42)\n"
   ]
  },
  {
   "cell_type": "code",
   "execution_count": 7,
   "id": "93c98b3e",
   "metadata": {},
   "outputs": [],
   "source": [
    "#3. Compute TF-IDF vectors on the text data. \n",
    "from sklearn.feature_extraction.text import TfidfVectorizer\n",
    "\n",
    "# Define the TF-IDF vectorizer\n",
    "tfidf_vectorizer = TfidfVectorizer(stop_words='english')\n",
    "\n",
    "# Fit and transform the vectorizer on the training data\n",
    "X_train_tfidf = tfidf_vectorizer.fit_transform(X_train)\n",
    "\n",
    "# Transform the test data using the same vectorizer\n",
    "X_test_tfidf = tfidf_vectorizer.transform(X_test)\n"
   ]
  },
  {
   "cell_type": "code",
   "execution_count": 8,
   "id": "a9ff5af1",
   "metadata": {},
   "outputs": [],
   "source": [
    "#4. Solve your binary classification problem with the Naïve Bayes classifier.\n",
    "\n",
    "from sklearn.naive_bayes import MultinomialNB\n",
    "\n",
    "# Create a Naïve Bayes classifier\n",
    "naive_bayes_classifier = MultinomialNB()\n",
    "\n",
    "# Train the classifier using the TF-IDF vectors and corresponding labels\n",
    "naive_bayes_classifier.fit(X_train_tfidf, y_train)\n",
    "\n",
    "# Make predictions on the test data\n",
    "y_pred = naive_bayes_classifier.predict(X_test_tfidf)\n"
   ]
  },
  {
   "cell_type": "code",
   "execution_count": 9,
   "id": "ea0a35f7",
   "metadata": {},
   "outputs": [
    {
     "name": "stdout",
     "output_type": "stream",
     "text": [
      "Naïve Bayes Accuracy: 0.7951467268623025\n",
      "Naïve Bayes Classification Report:\n",
      "               precision    recall  f1-score   support\n",
      "\n",
      "           0       0.93      0.63      0.75       873\n",
      "           1       0.73      0.95      0.82       899\n",
      "\n",
      "    accuracy                           0.80      1772\n",
      "   macro avg       0.83      0.79      0.79      1772\n",
      "weighted avg       0.83      0.80      0.79      1772\n",
      "\n"
     ]
    },
    {
     "data": {
      "image/png": "[encoded data removed]",
      "text/plain": [
       "<Figure size 800x600 with 2 Axes>"
      ]
     },
     "metadata": {},
     "output_type": "display_data"
    }
   ],
   "source": [
    "from sklearn.metrics import confusion_matrix\n",
    "import seaborn as sns\n",
    "import matplotlib.pyplot as plt\n",
    "from sklearn.metrics import accuracy_score, classification_report, confusion_matrix\n",
    "\n",
    "# Predict using the trained Naïve Bayes classifier and the TF-IDF vectors for test data\n",
    "nb_y_pred = naive_bayes_classifier.predict(X_test_tfidf)\n",
    "\n",
    "# Calculate accuracy for the Naïve Bayes classifier\n",
    "nb_accuracy = accuracy_score(y_test, nb_y_pred)\n",
    "print(\"Naïve Bayes Accuracy:\", nb_accuracy)\n",
    "\n",
    "# Generate a classification report for the Naïve Bayes classifier\n",
    "nb_report = classification_report(y_test, nb_y_pred)\n",
    "print(\"Naïve Bayes Classification Report:\\n\", nb_report)\n",
    "\n",
    "# Generate the confusion matrix for the Naïve Bayes classifier\n",
    "nb_cm = confusion_matrix(y_test, nb_y_pred)\n",
    "\n",
    "# Plot the confusion matrix for the Naïve Bayes classifier\n",
    "plt.figure(figsize=(8, 6))\n",
    "sns.heatmap(nb_cm, annot=True, fmt=\"d\", cmap=\"Blues\", xticklabels=[\"Non Academic\", \"Academic\"], yticklabels=[\"Non Academic\", \"Academic\"])\n",
    "plt.xlabel(\"Predicted\")\n",
    "plt.ylabel(\"Actual\")\n",
    "plt.title(\"Confusion Matrix for Naïve Bayes Classifier\")\n",
    "plt.show()\n"
   ]
  },
  {
   "cell_type": "markdown",
   "id": "a5c6e9b3",
   "metadata": {},
   "source": [
    "\n",
    "**Confusion Matrix Report Explanation**\n",
    "\n",
    "- The model correctly identified 862 cases of \"non academic\" (True Positives).\n",
    "- The model correctly identified 513 cases of \"academic\" (True Negatives).\n",
    "- The model incorrectly identified 360 cases as \"non academic\" when they were actually \"academic\" (False Positives).\n",
    "- The model incorrectly identified 37 cases as \"academic\" when they were actually \"non academic\" (False Negatives).\n",
    "\n",
    "**Accuracy**\n",
    " The accuracy predicted from the model is 79.5%.\n"
   ]
  },
  {
   "cell_type": "code",
   "execution_count": 10,
   "id": "330f905e",
   "metadata": {},
   "outputs": [
    {
     "data": {
      "text/html": [
       "<style>#sk-container-id-1 {color: black;background-color: white;}#sk-container-id-1 pre{padding: 0;}#sk-container-id-1 div.sk-toggleable {background-color: white;}#sk-container-id-1 label.sk-toggleable__label {cursor: pointer;display: block;width: 100%;margin-bottom: 0;padding: 0.3em;box-sizing: border-box;text-align: center;}#sk-container-id-1 label.sk-toggleable__label-arrow:before {content: \"▸\";float: left;margin-right: 0.25em;color: #696969;}#sk-container-id-1 label.sk-toggleable__label-arrow:hover:before {color: black;}#sk-container-id-1 div.sk-estimator:hover label.sk-toggleable__label-arrow:before {color: black;}#sk-container-id-1 div.sk-toggleable__content {max-height: 0;max-width: 0;overflow: hidden;text-align: left;background-color: #f0f8ff;}#sk-container-id-1 div.sk-toggleable__content pre {margin: 0.2em;color: black;border-radius: 0.25em;background-color: #f0f8ff;}#sk-container-id-1 input.sk-toggleable__control:checked~div.sk-toggleable__content {max-height: 200px;max-width: 100%;overflow: auto;}#sk-container-id-1 input.sk-toggleable__control:checked~label.sk-toggleable__label-arrow:before {content: \"▾\";}#sk-container-id-1 div.sk-estimator input.sk-toggleable__control:checked~label.sk-toggleable__label {background-color: #d4ebff;}#sk-container-id-1 div.sk-label input.sk-toggleable__control:checked~label.sk-toggleable__label {background-color: #d4ebff;}#sk-container-id-1 input.sk-hidden--visually {border: 0;clip: rect(1px 1px 1px 1px);clip: rect(1px, 1px, 1px, 1px);height: 1px;margin: -1px;overflow: hidden;padding: 0;position: absolute;width: 1px;}#sk-container-id-1 div.sk-estimator {font-family: monospace;background-color: #f0f8ff;border: 1px dotted black;border-radius: 0.25em;box-sizing: border-box;margin-bottom: 0.5em;}#sk-container-id-1 div.sk-estimator:hover {background-color: #d4ebff;}#sk-container-id-1 div.sk-parallel-item::after {content: \"\";width: 100%;border-bottom: 1px solid gray;flex-grow: 1;}#sk-container-id-1 div.sk-label:hover label.sk-toggleable__label {background-color: #d4ebff;}#sk-container-id-1 div.sk-serial::before {content: \"\";position: absolute;border-left: 1px solid gray;box-sizing: border-box;top: 0;bottom: 0;left: 50%;z-index: 0;}#sk-container-id-1 div.sk-serial {display: flex;flex-direction: column;align-items: center;background-color: white;padding-right: 0.2em;padding-left: 0.2em;position: relative;}#sk-container-id-1 div.sk-item {position: relative;z-index: 1;}#sk-container-id-1 div.sk-parallel {display: flex;align-items: stretch;justify-content: center;background-color: white;position: relative;}#sk-container-id-1 div.sk-item::before, #sk-container-id-1 div.sk-parallel-item::before {content: \"\";position: absolute;border-left: 1px solid gray;box-sizing: border-box;top: 0;bottom: 0;left: 50%;z-index: -1;}#sk-container-id-1 div.sk-parallel-item {display: flex;flex-direction: column;z-index: 1;position: relative;background-color: white;}#sk-container-id-1 div.sk-parallel-item:first-child::after {align-self: flex-end;width: 50%;}#sk-container-id-1 div.sk-parallel-item:last-child::after {align-self: flex-start;width: 50%;}#sk-container-id-1 div.sk-parallel-item:only-child::after {width: 0;}#sk-container-id-1 div.sk-dashed-wrapped {border: 1px dashed gray;margin: 0 0.4em 0.5em 0.4em;box-sizing: border-box;padding-bottom: 0.4em;background-color: white;}#sk-container-id-1 div.sk-label label {font-family: monospace;font-weight: bold;display: inline-block;line-height: 1.2em;}#sk-container-id-1 div.sk-label-container {text-align: center;}#sk-container-id-1 div.sk-container {/* jupyter's `normalize.less` sets `[hidden] { display: none; }` but bootstrap.min.css set `[hidden] { display: none !important; }` so we also need the `!important` here to be able to override the default hidden behavior on the sphinx rendered scikit-learn.org. See: https://github.com/scikit-learn/scikit-learn/issues/21755 */display: inline-block !important;position: relative;}#sk-container-id-1 div.sk-text-repr-fallback {display: none;}</style><div id=\"sk-container-id-1\" class=\"sk-top-container\"><div class=\"sk-text-repr-fallback\"><pre>SVC(kernel=&#x27;linear&#x27;)</pre><b>In a Jupyter environment, please rerun this cell to show the HTML representation or trust the notebook. <br />On GitHub, the HTML representation is unable to render, please try loading this page with nbviewer.org.</b></div><div class=\"sk-container\" hidden><div class=\"sk-item\"><div class=\"sk-estimator sk-toggleable\"><input class=\"sk-toggleable__control sk-hidden--visually\" id=\"sk-estimator-id-1\" type=\"checkbox\" checked><label for=\"sk-estimator-id-1\" class=\"sk-toggleable__label sk-toggleable__label-arrow\">SVC</label><div class=\"sk-toggleable__content\"><pre>SVC(kernel=&#x27;linear&#x27;)</pre></div></div></div></div></div>"
      ],
      "text/plain": [
       "SVC(kernel='linear')"
      ]
     },
     "execution_count": 10,
     "metadata": {},
     "output_type": "execute_result"
    }
   ],
   "source": [
    "#5. Solve your binary classification problem with the SVC classifier.\n",
    "from sklearn.svm import SVC\n",
    "\n",
    "# Initialize the SVC classifier\n",
    "svc_classifier = SVC(kernel='linear', C=1.0)\n",
    "\n",
    "# Fit the classifier to your training data with TF-IDF vectors\n",
    "svc_classifier.fit(X_train_tfidf, y_train)\n"
   ]
  },
  {
   "cell_type": "code",
   "execution_count": 11,
   "id": "5c98cd76",
   "metadata": {},
   "outputs": [
    {
     "name": "stdout",
     "output_type": "stream",
     "text": [
      "Accuracy: 0.9644469525959368\n",
      "Classification Report:\n",
      "               precision    recall  f1-score   support\n",
      "\n",
      "           0       0.94      0.99      0.96       873\n",
      "           1       0.99      0.94      0.96       899\n",
      "\n",
      "    accuracy                           0.96      1772\n",
      "   macro avg       0.97      0.96      0.96      1772\n",
      "weighted avg       0.97      0.96      0.96      1772\n",
      "\n"
     ]
    },
    {
     "data": {
      "image/png": "[encoded data removed]",
      "text/plain": [
       "<Figure size 800x600 with 2 Axes>"
      ]
     },
     "metadata": {},
     "output_type": "display_data"
    }
   ],
   "source": [
    "from sklearn.metrics import accuracy_score, classification_report, confusion_matrix\n",
    "\n",
    "# Predict using the trained classifier and the TF-IDF vectors for test data\n",
    "y_pred = svc_classifier.predict(X_test_tfidf)\n",
    "\n",
    "\n",
    "# Calculate accuracy\n",
    "accuracy = accuracy_score(y_test, y_pred)\n",
    "print(\"Accuracy:\", accuracy)\n",
    "\n",
    "# Generate a classification report\n",
    "report = classification_report(y_test, y_pred)\n",
    "print(\"Classification Report:\\n\", report)\n",
    "\n",
    "# Generate the confusion matrix\n",
    "cm = confusion_matrix(y_test, y_pred)\n",
    "\n",
    "# Plot the confusion matrix for the SVM classifier\n",
    "plt.figure(figsize=(8, 6))\n",
    "sns.heatmap(cm, annot=True, fmt=\"d\", cmap=\"Blues\", xticklabels=[\"Non Academic\", \"Academic\"], yticklabels=[\"Non Academic\", \"Academic\"])\n",
    "plt.xlabel(\"Predicted\")\n",
    "plt.ylabel(\"Actual\")\n",
    "plt.title(\"Confusion Matrix for SVM Classifier\")\n",
    "plt.show()\n"
   ]
  },
  {
   "cell_type": "markdown",
   "id": "bfa5b4d0",
   "metadata": {},
   "source": [
    "\n",
    "**Confusion Matrix Report Explanation**\n",
    "\n",
    "- The model correctly identified 863 cases as \"academic\" (True Positives).\n",
    "- The model correctly identified 846 cases as \"non academic\" (True Negatives).\n",
    "- The model incorrectly identified 10 cases as \"academic\" when they were actually \"non academic\" (False Positives).\n",
    "- The model incorrectly identified 53 cases as \"non academic\" when they were actually \"academic\" (False Negatives).\n",
    "\n",
    "\n",
    "**Accuracy**\n",
    " The accuracy predicted from the model is 96.4%."
   ]
  }
 ],
 "metadata": {
  "kernelspec": {
   "display_name": "Python 3 (ipykernel)",
   "language": "python",
   "name": "python3"
  },
  "language_info": {
   "codemirror_mode": {
    "name": "ipython",
    "version": 3
   },
   "file_extension": ".py",
   "mimetype": "text/x-python",
   "name": "python",
   "nbconvert_exporter": "python",
   "pygments_lexer": "ipython3",
   "version": "3.9.13"
  }
 },
 "nbformat": 4,
 "nbformat_minor": 5
}
